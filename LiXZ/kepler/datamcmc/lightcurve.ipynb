{
 "cells": [
  {
   "cell_type": "code",
   "execution_count": null,
   "metadata": {},
   "outputs": [],
   "source": [
    "import phoebe\n",
    "import numpy as np\n",
    "import matplotlib.pyplot as plt\n",
    "import warnings\n",
    "from tqdm import tqdm_notebook as tqdm\n",
    "\n",
    "#warnings.filterwarnings('ignore')\n",
    "logger = phoebe.logger(clevel = 'WARNING')\n",
    "\n",
    "b = phoebe.default_binary(contact_binary=True)\n",
    "\n",
    "times  = np.linspace(0,1,100)\n",
    "b.add_dataset('lc', times=times)\n",
    "\n",
    "b['period@binary'] = 1\n",
    "b['sma@orbit'] = 1\n",
    "\n",
    "m = 0\n",
    "for mc in range(39,65):\n",
    "    for j in range(6,100):\n",
    "        for i in range(90):\n",
    "            try:\n",
    "                \n",
    "                print(mc,j,i)\n",
    "                b['requiv@primary'] = 0.01*mc\n",
    "                b['incl@binary'] = i\n",
    "                b['q@binary'] = 0.01*j\n",
    "                b.run_compute(irrad_method='none')\n",
    "                print('it is ok1')\n",
    "                \n",
    "                m = m+1\n",
    "                file = str(m)+'.lc'\n",
    "                lightcurvedata = np.vstack((b['value@times@lc01@model'], b['value@fluxes@lc01@model'])).T\n",
    "                mq = [(i, 0.01*j), (0.01*mc, 0)]\n",
    "                datamq = np.array(mq)\n",
    "                print('it is ok2')\n",
    "                \n",
    "                resultdata = np.row_stack((lightcurvedata, datamq))\n",
    "                np.savetxt(file, resultdata)\n",
    "                print('it is ok3')\n",
    "                \n",
    "            except:\n",
    "                print('it is error!')\n",
    "        "
   ]
  },
  {
   "cell_type": "code",
   "execution_count": null,
   "metadata": {},
   "outputs": [],
   "source": [
    "mq = [(10, 0.01*10), (0.01*10, 0)]"
   ]
  },
  {
   "cell_type": "code",
   "execution_count": null,
   "metadata": {},
   "outputs": [],
   "source": [
    "arraymq = np.array(mq)"
   ]
  },
  {
   "cell_type": "code",
   "execution_count": null,
   "metadata": {},
   "outputs": [],
   "source": [
    "import numpy as np"
   ]
  },
  {
   "cell_type": "code",
   "execution_count": null,
   "metadata": {},
   "outputs": [],
   "source": [
    "arraymq = np.array(mq)"
   ]
  },
  {
   "cell_type": "code",
   "execution_count": null,
   "metadata": {},
   "outputs": [],
   "source": [
    "print(arraymq)"
   ]
  },
  {
   "cell_type": "code",
   "execution_count": null,
   "metadata": {},
   "outputs": [],
   "source": [
    " resultdata = np.row_stack((arraymq, arraymq))"
   ]
  },
  {
   "cell_type": "code",
   "execution_count": null,
   "metadata": {},
   "outputs": [],
   "source": [
    "print(resultdata)"
   ]
  },
  {
   "cell_type": "code",
   "execution_count": null,
   "metadata": {},
   "outputs": [],
   "source": []
  }
 ],
 "metadata": {
  "kernelspec": {
   "display_name": "Python 3",
   "language": "python",
   "name": "python3"
  },
  "language_info": {
   "codemirror_mode": {
    "name": "ipython",
    "version": 3
   },
   "file_extension": ".py",
   "mimetype": "text/x-python",
   "name": "python",
   "nbconvert_exporter": "python",
   "pygments_lexer": "ipython3",
   "version": "3.7.6"
  }
 },
 "nbformat": 4,
 "nbformat_minor": 4
}
