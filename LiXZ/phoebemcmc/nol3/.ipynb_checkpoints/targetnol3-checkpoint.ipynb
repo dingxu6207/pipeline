{
 "cells": [
  {
   "cell_type": "code",
   "execution_count": 1,
   "metadata": {
    "scrolled": false
   },
   "outputs": [],
   "source": [
    "import phoebe\n",
    "import numpy as np\n",
    "import matplotlib.pyplot as plt\n",
    "import emcee\n",
    "import sys\n",
    "%matplotlib inline"
   ]
  },
  {
   "cell_type": "code",
   "execution_count": 2,
   "metadata": {
    "scrolled": false
   },
   "outputs": [],
   "source": [
    "b = phoebe.default_binary(contact_binary = True)"
   ]
  },
  {
   "cell_type": "code",
   "execution_count": 3,
   "metadata": {
    "scrolled": false
   },
   "outputs": [],
   "source": [
    "#b.add_constraint('semidetached', 'primary')"
   ]
  },
  {
   "cell_type": "code",
   "execution_count": 4,
   "metadata": {
    "scrolled": false
   },
   "outputs": [],
   "source": [
    "#b.add_constraint('semidetached', 'secondary')"
   ]
  },
  {
   "cell_type": "code",
   "execution_count": 5,
   "metadata": {
    "scrolled": false
   },
   "outputs": [],
   "source": [
    "b['period@orbit'] = 1\n",
    "b['sma@orbit'] = 1\n",
    "#b['q@binary'] = 0.44\n",
    "# b['incl@orbit'] = 83.5\n",
    "# b['requiv@primary'] = 1.2\n",
    "# b['requiv@secondary'] = 0.8\n",
    "#b['teff@primary'] = 5660.\n",
    "# b['teff@secondary'] = 5500."
   ]
  },
  {
   "cell_type": "code",
   "execution_count": 6,
   "metadata": {
    "scrolled": false
   },
   "outputs": [],
   "source": [
    "#lc = np.loadtxt('data.lc')\n",
    "v737 = np.loadtxt('v737per.B')\n",
    "vdata = v737[:,1]\n",
    "flux = vdata/(-2.5)\n",
    "flux10 = 10**flux\n",
    "lc = v737\n",
    "lc[:,1] = flux10\n",
    "sigmas = np.diff(flux10,2).std()*np.ones(len(lc))"
   ]
  },
  {
   "cell_type": "code",
   "execution_count": 7,
   "metadata": {
    "scrolled": false
   },
   "outputs": [
    {
     "data": {
      "text/plain": [
       "<ParameterSet: 78 parameters | contexts: constraint, dataset, compute, figure>"
      ]
     },
     "execution_count": 7,
     "metadata": {},
     "output_type": "execute_result"
    }
   ],
   "source": [
    "#b.add_dataset('lc', times=lc[:,0], fluxes=lc[:,1], sigmas=0.05*np.ones(len(lc)), passband='Johnson:B')\n",
    "b.add_dataset('lc', times=lc[:,0], fluxes=lc[:,1], sigmas=sigmas, passband='Johnson:B')"
   ]
  },
  {
   "cell_type": "code",
   "execution_count": 8,
   "metadata": {
    "scrolled": false
   },
   "outputs": [],
   "source": [
    "phoebe.interactive_checks_off()\n",
    "phoebe.interactive_constraints_off()\n",
    "b.set_value_all('irrad_method', 'none')"
   ]
  },
  {
   "cell_type": "code",
   "execution_count": 9,
   "metadata": {
    "scrolled": false
   },
   "outputs": [],
   "source": [
    "b.flip_constraint('compute_phases', 'compute_times')\n",
    "b['compute_phases@lc@dataset'] = np.linspace(-0.5,0.5,len(lc))"
   ]
  },
  {
   "cell_type": "code",
   "execution_count": 10,
   "metadata": {
    "scrolled": false
   },
   "outputs": [],
   "source": [
    "def lnprob(x, adjpars, priors):\n",
    "    #Check to see that all values are within the allowed limits:\n",
    "    if not np.all([priors[i][0] < x[i] < priors[i][1] for i in range(len(priors))]):\n",
    "         return -np.inf\n",
    "\n",
    "    for i in range(len(adjpars)):\n",
    "        b[adjpars[i]] = x[i]\n",
    "    \n",
    "    # Let's assume that our priors are uniform on the range of the physical parameter combinations.\n",
    "    # This is already handled in Phoebe, which will throw an error if the system is not physical,\n",
    "    # therefore it's easy to implement the lnprior as =0 when system checks pass and =-inf if they don't.\n",
    "    # Here we'll 'package' this in a simple try/except statement:\n",
    "    \n",
    "    try:\n",
    "        b.run_compute(irrad_method='none')\n",
    "\n",
    "        # sum of squares of the residuals\n",
    "        fluxes_model = b['fluxes@model'].interp_value(times=lc[:,0])\n",
    "        #lnp = -0.5*np.sum((fluxes_model-b['value@fluxes@dataset'])**2 / b['value@sigmas@dataset']**2)\n",
    "        mag_model = -2.5*np.log10(fluxes_model) \n",
    "        mag_model = mag_model-np.mean(mag_model)\n",
    "        mag_value = -2.5*np.log10(b['value@fluxes@dataset'])\n",
    "        mag_value = mag_value-np.mean(mag_value)\n",
    "        lnp = -0.5*np.sum((mag_model-mag_value)**2 / b['value@sigmas@dataset']**2)\n",
    "        \n",
    "        #print('inp is ok!')\n",
    "\n",
    "    except:\n",
    "        lnp = -np.inf\n",
    "\n",
    "    sys.stderr.write(\"lnp = %e\\n\" % (lnp))\n",
    "\n",
    "    return lnp"
   ]
  },
  {
   "cell_type": "code",
   "execution_count": 11,
   "metadata": {
    "scrolled": false
   },
   "outputs": [],
   "source": [
    "from scipy.stats import norm\n",
    "def run(adjpars, priors, nwalkers, niter):\n",
    "    ndim = len(adjpars)\n",
    "\n",
    "   \n",
    "\n",
    "    p0 = np.array([[p[0] + (p[1]-p[0])*np.random.rand() for p in priors] for i in range(nwalkers)])\n",
    "\n",
    "#     pool = MPIPool()\n",
    "#     if not pool.is_master():\n",
    "#         pool.wait()\n",
    "#         sys.exit(0)\n",
    "\n",
    "    sampler = emcee.EnsembleSampler(nwalkers, ndim, lnprob, args=[adjpars, priors])\n",
    "\n",
    "    pos, prob, state = sampler.run_mcmc(p0, niter)\n",
    "    \n",
    "    print(p0)\n",
    "    \n",
    "    for i in range(ndim):\n",
    "        plt.figure()\n",
    "        y = sampler.flatchain[:,i]\n",
    "        n, bins, patches = plt.hist(y, 200, density=1, color=\"b\", alpha=0.45)\n",
    "        plt.title(\"Dimension {0:d}\".format(i))\n",
    "        \n",
    "        mu = np.average(y)\n",
    "        sigma = np.std(y)       \n",
    "        print (\"mu,\", \"sigma = \", mu, sigma)\n",
    "\n",
    "        bf = norm.pdf(bins, mu, sigma)\n",
    "        l = plt.plot(bins, bf, 'k--', linewidth=2.0)\n",
    "         \n",
    "    #plt.show()\n",
    "    \n",
    "    return pos\n",
    "\n",
    "#     pool.close()\n",
    "\n"
   ]
  },
  {
   "cell_type": "code",
   "execution_count": null,
   "metadata": {
    "scrolled": true
   },
   "outputs": [
    {
     "name": "stderr",
     "output_type": "stream",
     "text": [
      "lnp = -inf\n",
      "100%|██████████| 310/310 [00:09<00:00, 31.09it/s]\n",
      "lnp = -1.955414e+01\n",
      "100%|██████████| 310/310 [00:09<00:00, 31.97it/s]\n",
      "lnp = -1.048380e+02\n",
      "100%|██████████| 310/310 [00:09<00:00, 31.57it/s]\n",
      "lnp = -7.640389e+01\n",
      "100%|██████████| 310/310 [00:09<00:00, 31.95it/s]\n",
      "lnp = -1.013793e+02\n",
      "100%|██████████| 310/310 [00:09<00:00, 32.34it/s]\n",
      "lnp = -2.117965e+02\n",
      "100%|██████████| 310/310 [00:09<00:00, 31.97it/s]\n",
      "lnp = -8.353308e+01\n",
      "lnp = -inf\n",
      "lnp = -inf\n",
      "100%|██████████| 310/310 [00:09<00:00, 31.53it/s]\n",
      "lnp = -1.808702e+01\n",
      "lnp = -inf\n",
      "100%|██████████| 310/310 [00:09<00:00, 31.02it/s]\n",
      "lnp = -2.543694e+01\n",
      "100%|██████████| 310/310 [00:09<00:00, 31.77it/s]\n",
      "lnp = -1.701927e+02\n",
      "100%|██████████| 310/310 [00:09<00:00, 31.28it/s]\n",
      "lnp = -3.360017e+01\n",
      "/home/dingxu/anaconda3/lib/python3.7/site-packages/emcee/moves/red_blue.py:99: RuntimeWarning: invalid value encountered in double_scalars\n",
      "  lnpdiff = f + nlp - state.log_prob[j]\n",
      "100%|██████████| 310/310 [00:09<00:00, 32.23it/s]\n",
      "lnp = -9.218753e+01\n",
      "100%|██████████| 310/310 [00:09<00:00, 31.66it/s]\n",
      "lnp = -9.802452e+01\n",
      "100%|██████████| 310/310 [00:09<00:00, 32.31it/s]\n",
      "lnp = -1.828275e+02\n",
      "lnp = -inf\n",
      "lnp = -inf\n",
      "100%|██████████| 310/310 [00:09<00:00, 31.45it/s]\n",
      "lnp = -8.703757e+01\n",
      "lnp = -inf\n",
      "100%|██████████| 310/310 [00:09<00:00, 31.06it/s]\n",
      "lnp = -8.665408e+01\n",
      "100%|██████████| 310/310 [00:09<00:00, 31.31it/s]\n",
      "lnp = -8.665368e+01\n",
      "100%|██████████| 310/310 [00:09<00:00, 31.32it/s]\n",
      "lnp = -1.746864e+02\n",
      "100%|██████████| 310/310 [00:10<00:00, 30.98it/s]\n",
      "lnp = -2.393030e+02\n",
      "100%|██████████| 310/310 [00:09<00:00, 31.64it/s]\n",
      "lnp = -7.536566e+01\n",
      "100%|██████████| 310/310 [00:09<00:00, 31.36it/s]\n",
      "lnp = -1.193239e+02\n",
      "100%|██████████| 310/310 [00:09<00:00, 31.51it/s]\n",
      "lnp = -7.116102e+01\n",
      "100%|██████████| 310/310 [00:09<00:00, 31.57it/s]\n",
      "lnp = -1.393754e+02\n",
      "lnp = -inf\n",
      "100%|██████████| 310/310 [00:09<00:00, 31.51it/s]\n",
      "lnp = -9.460179e+01\n",
      "100%|██████████| 310/310 [00:09<00:00, 32.07it/s]\n",
      "lnp = -2.366925e+02\n",
      "100%|██████████| 310/310 [00:09<00:00, 31.97it/s]\n",
      "lnp = -1.758102e+02\n",
      "100%|██████████| 310/310 [00:09<00:00, 31.02it/s]\n",
      "lnp = -4.255212e+01\n",
      "100%|██████████| 310/310 [00:09<00:00, 31.57it/s]\n",
      "lnp = -9.670604e+01\n",
      "lnp = -inf\n",
      "100%|██████████| 310/310 [00:10<00:00, 30.79it/s]\n",
      "lnp = -1.847587e+01\n",
      "100%|██████████| 310/310 [00:09<00:00, 32.19it/s]\n",
      "lnp = -1.818174e+02\n",
      "100%|██████████| 310/310 [00:09<00:00, 31.54it/s]\n",
      "lnp = -1.015398e+02\n",
      "100%|██████████| 310/310 [00:09<00:00, 31.82it/s]\n",
      "lnp = -1.595944e+02\n",
      "100%|██████████| 310/310 [00:09<00:00, 32.41it/s]\n",
      "lnp = -1.292951e+02\n",
      "100%|██████████| 310/310 [00:09<00:00, 31.70it/s]\n",
      "lnp = -7.133803e+01\n",
      "100%|██████████| 310/310 [00:09<00:00, 31.81it/s]\n",
      "lnp = -4.471661e+01\n",
      "100%|██████████| 310/310 [00:09<00:00, 31.90it/s]\n",
      "lnp = -1.028907e+02\n",
      "100%|██████████| 310/310 [00:09<00:00, 31.56it/s]\n",
      "lnp = -7.198960e+01\n",
      "100%|██████████| 310/310 [00:09<00:00, 32.16it/s]\n",
      "lnp = -1.424382e+02\n",
      "100%|██████████| 310/310 [00:09<00:00, 31.49it/s]\n",
      "lnp = -5.106216e+01\n",
      "lnp = -inf\n",
      "lnp = -inf\n",
      "100%|██████████| 310/310 [00:09<00:00, 32.10it/s]\n",
      "lnp = -1.328456e+02\n",
      "100%|██████████| 310/310 [00:09<00:00, 31.71it/s]\n",
      "lnp = -8.346268e+01\n",
      "100%|██████████| 310/310 [00:10<00:00, 30.96it/s]\n",
      "lnp = -1.925930e+02\n",
      "100%|██████████| 310/310 [00:09<00:00, 31.29it/s]\n",
      "lnp = -1.268651e+02\n",
      "100%|██████████| 310/310 [00:09<00:00, 31.26it/s]\n",
      "lnp = -1.199252e+02\n",
      "100%|██████████| 310/310 [00:09<00:00, 31.41it/s]\n",
      "lnp = -7.195344e+01\n",
      "100%|██████████| 310/310 [00:09<00:00, 31.26it/s]\n",
      "lnp = -8.890570e+01\n",
      "100%|██████████| 310/310 [00:10<00:00, 30.70it/s]\n",
      "lnp = -7.001551e+01\n",
      "100%|██████████| 310/310 [00:10<00:00, 30.35it/s]\n",
      "lnp = -1.805556e+01\n",
      "100%|██████████| 310/310 [00:10<00:00, 30.62it/s]\n",
      "lnp = -9.878548e+01\n",
      "100%|██████████| 310/310 [00:09<00:00, 31.40it/s]\n",
      "lnp = -1.742241e+02\n",
      " 38%|███▊      | 118/310 [00:04<00:07, 25.61it/s]"
     ]
    }
   ],
   "source": [
    "adjpars = ['requiv@primary', 'incl@orbit', 'q@binary', 'teff@primary', 'teff@secondary']\n",
    "priors = [(0.45,0.55), (76.0, 79.0), (0.42, 0.45), (5400, 5800), (5400., 5800.)]\n",
    "nwalkers = 10\n",
    "\n",
    "niters = 20\n",
    "state = None\n",
    "\n",
    "import time\n",
    "\n",
    "time1 = time.time()\n",
    "postion = run(adjpars, priors, nwalkers, niters)\n",
    "time2 = time.time()\n",
    "\n",
    "run_time = time2-time1\n",
    "\n",
    "print(run_time)"
   ]
  },
  {
   "cell_type": "code",
   "execution_count": null,
   "metadata": {
    "scrolled": false
   },
   "outputs": [],
   "source": [
    "\n",
    "from matplotlib.pyplot import cm \n",
    "\n",
    "mod = b\n",
    "position = postion\n",
    "times = lc[:,0]\n",
    "color=cm.rainbow(np.linspace(0,1,nwalkers))\n",
    "\n",
    "for i,c in zip(range(nwalkers),color):\n",
    "    \n",
    "    mod['requiv@primary'] = position[-1-i,0]\n",
    "    mod['incl@binary@orbit@component'] = position[-1-i,1]\n",
    "    mod['q@binary'] = position[-1-i,2]\n",
    "    mod['teff@primary'] = position[-1-i,3]\n",
    "    mod['teff@secondary'] = position[-1-i,4]\n",
    "    try:\n",
    "        mod.run_compute(model='run{}'.format(i))\n",
    "    except:\n",
    "        print('it is error')\n",
    "\n",
    "\n",
    "for i,c in zip(range(nwalkers),color):\n",
    "    try:\n",
    "        model = mod['fluxes@run{}'.format(i)].interp_value(times=times)\n",
    "\n",
    "    #plt.figure(1)\n",
    "        plt.plot(times,model,c=c)\n",
    "    except:\n",
    "        print('it is error')\n",
    "    \n",
    "plt.plot(times,lc[:,1],\"k.\")\n",
    "plt.xlabel(\"phases\")\n",
    "plt.ylabel(\"Flux\")\n"
   ]
  },
  {
   "cell_type": "code",
   "execution_count": null,
   "metadata": {
    "scrolled": false
   },
   "outputs": [],
   "source": [
    "mod['incl@binary@orbit@component']"
   ]
  },
  {
   "cell_type": "code",
   "execution_count": null,
   "metadata": {
    "scrolled": false
   },
   "outputs": [],
   "source": [
    "mod['q@binary']"
   ]
  },
  {
   "cell_type": "code",
   "execution_count": null,
   "metadata": {
    "scrolled": false
   },
   "outputs": [],
   "source": [
    "mod['teff@primary']"
   ]
  },
  {
   "cell_type": "code",
   "execution_count": null,
   "metadata": {
    "scrolled": false
   },
   "outputs": [],
   "source": [
    "mod['teff@secondary']"
   ]
  },
  {
   "cell_type": "code",
   "execution_count": null,
   "metadata": {
    "scrolled": false
   },
   "outputs": [],
   "source": [
    "from matplotlib.pyplot import cm \n",
    "\n",
    "mod = b\n",
    "position = postion\n",
    "times = lc[:,0]\n",
    "color=cm.rainbow(np.linspace(0,1,nwalkers))\n",
    "\n",
    "for i,c in zip(range(nwalkers),color):\n",
    "    \n",
    "    mod['requiv@primary'] = position[-1-i,0]\n",
    "    mod['incl@binary@orbit@component'] = position[-1-i,1]\n",
    "    mod['q@binary'] = position[-1-i,2]\n",
    "    mod['teff@primary'] = position[-1-i,3]\n",
    "    mod['teff@secondary'] = position[-1-i,4]\n",
    "    try:\n",
    "        mod.run_compute(model='run{}'.format(i))\n",
    "    except:\n",
    "        print('it is error')\n",
    "\n",
    "\n",
    "for i,c in zip(range(nwalkers),color):\n",
    "    try:\n",
    "        model = mod['fluxes@run{}'.format(i)].interp_value(times=times)\n",
    "\n",
    "    #plt.figure(1)\n",
    "        rmodel = -2.5*np.log10(model)\n",
    "        resultmodel = rmodel-np.mean(rmodel)\n",
    "        plt.plot(times,resultmodel,c=c)\n",
    "    except:\n",
    "        print('it is error')\n",
    "\n",
    "lmodel = -2.5*np.log10(lc[:,1])  \n",
    "lmag = lmodel-np.mean(lmodel)\n",
    "ax = plt.gca()\n",
    "plt.plot(times,lmag,\"k.\")\n",
    "plt.xlabel(\"phases\")\n",
    "plt.ylabel(\"Mag\")\n",
    "ax.yaxis.set_ticks_position('left')\n",
    "ax.invert_yaxis()"
   ]
  },
  {
   "cell_type": "code",
   "execution_count": null,
   "metadata": {
    "scrolled": true
   },
   "outputs": [],
   "source": []
  }
 ],
 "metadata": {
  "kernelspec": {
   "display_name": "Python 3",
   "language": "python",
   "name": "python3"
  },
  "language_info": {
   "codemirror_mode": {
    "name": "ipython",
    "version": 3
   },
   "file_extension": ".py",
   "mimetype": "text/x-python",
   "name": "python",
   "nbconvert_exporter": "python",
   "pygments_lexer": "ipython3",
   "version": "3.7.6"
  }
 },
 "nbformat": 4,
 "nbformat_minor": 4
}
