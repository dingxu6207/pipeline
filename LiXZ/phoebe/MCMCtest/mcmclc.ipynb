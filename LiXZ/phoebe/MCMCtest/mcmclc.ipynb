{
 "cells": [
  {
   "cell_type": "code",
   "execution_count": null,
   "metadata": {
    "scrolled": false
   },
   "outputs": [],
   "source": [
    "import phoebe\n",
    "import numpy as np\n",
    "import matplotlib.pyplot as plt\n",
    "import emcee\n",
    "import sys\n",
    "%matplotlib inline"
   ]
  },
  {
   "cell_type": "code",
   "execution_count": null,
   "metadata": {
    "scrolled": false
   },
   "outputs": [],
   "source": [
    "b = phoebe.default_binary(contact_binary = True)"
   ]
  },
  {
   "cell_type": "code",
   "execution_count": null,
   "metadata": {
    "scrolled": false
   },
   "outputs": [],
   "source": [
    "#b.add_constraint('semidetached', 'primary')"
   ]
  },
  {
   "cell_type": "code",
   "execution_count": null,
   "metadata": {
    "scrolled": false
   },
   "outputs": [],
   "source": [
    "#b.add_constraint('semidetached', 'secondary')"
   ]
  },
  {
   "cell_type": "code",
   "execution_count": null,
   "metadata": {
    "scrolled": false
   },
   "outputs": [],
   "source": [
    "b['period@orbit'] = 1\n",
    "b['sma@orbit'] = 1\n",
    "#b['q@binary'] = 0.44\n",
    "# b['incl@orbit'] = 83.5\n",
    "# b['requiv@primary'] = 1.2\n",
    "# b['requiv@secondary'] = 0.8\n",
    "#b['teff@primary'] = 5660.\n",
    "# b['teff@secondary'] = 5500."
   ]
  },
  {
   "cell_type": "code",
   "execution_count": null,
   "metadata": {
    "scrolled": false
   },
   "outputs": [],
   "source": [
    "lc = np.loadtxt('data.lc')\n",
    "#v737 = np.loadtxt('v737per.B')\n",
    "#vdata = v737[:,1]\n",
    "#flux = vdata/(-2.5)\n",
    "#flux10 = 10**flux\n",
    "#lc = v737\n",
    "#lc[:,1] = flux10"
   ]
  },
  {
   "cell_type": "code",
   "execution_count": null,
   "metadata": {
    "scrolled": false
   },
   "outputs": [],
   "source": [
    "b.add_dataset('lc', times=lc[:,0], fluxes=lc[:,1], sigmas=0.05*np.ones(len(lc)), passband='Johnson:B')"
   ]
  },
  {
   "cell_type": "code",
   "execution_count": null,
   "metadata": {
    "scrolled": false
   },
   "outputs": [],
   "source": [
    "phoebe.interactive_checks_off()\n",
    "phoebe.interactive_constraints_off()\n",
    "b.set_value_all('irrad_method', 'none')"
   ]
  },
  {
   "cell_type": "code",
   "execution_count": null,
   "metadata": {
    "scrolled": false
   },
   "outputs": [],
   "source": [
    "b.flip_constraint('compute_phases', 'compute_times')\n",
    "b['compute_phases@lc@dataset'] = np.linspace(-0.5,0.5,len(lc))"
   ]
  },
  {
   "cell_type": "code",
   "execution_count": null,
   "metadata": {
    "scrolled": false
   },
   "outputs": [],
   "source": [
    "def lnprob(x, adjpars, priors):\n",
    "    #Check to see that all values are within the allowed limits:\n",
    "    if not np.all([priors[i][0] < x[i] < priors[i][1] for i in range(len(priors))]):\n",
    "         return -np.inf\n",
    "\n",
    "    for i in range(len(adjpars)):\n",
    "        b[adjpars[i]] = x[i]\n",
    "    \n",
    "    # Let's assume that our priors are uniform on the range of the physical parameter combinations.\n",
    "    # This is already handled in Phoebe, which will throw an error if the system is not physical,\n",
    "    # therefore it's easy to implement the lnprior as =0 when system checks pass and =-inf if they don't.\n",
    "    # Here we'll 'package' this in a simple try/except statement:\n",
    "    \n",
    "    try:\n",
    "        b.run_compute(irrad_method='none')\n",
    "\n",
    "        # sum of squares of the residuals\n",
    "        fluxes_model = b['fluxes@model'].interp_value(times=lc[:,0])\n",
    "        lnp = -0.5*np.sum((fluxes_model-b['value@fluxes@dataset'])**2 / b['value@sigmas@dataset']**2) \n",
    "        \n",
    "        #print('inp is ok!')\n",
    "\n",
    "    except:\n",
    "        lnp = -np.inf\n",
    "\n",
    "    sys.stderr.write(\"lnp = %e\\n\" % (lnp))\n",
    "\n",
    "    return lnp"
   ]
  },
  {
   "cell_type": "code",
   "execution_count": null,
   "metadata": {
    "scrolled": false
   },
   "outputs": [],
   "source": [
    "from scipy.stats import norm\n",
    "def run(adjpars, priors, nwalkers, niter):\n",
    "    ndim = len(adjpars)\n",
    "\n",
    "   \n",
    "\n",
    "    p0 = np.array([[p[0] + (p[1]-p[0])*np.random.rand() for p in priors] for i in range(nwalkers)])\n",
    "\n",
    "#     pool = MPIPool()\n",
    "#     if not pool.is_master():\n",
    "#         pool.wait()\n",
    "#         sys.exit(0)\n",
    "\n",
    "    sampler = emcee.EnsembleSampler(nwalkers, ndim, lnprob, args=[adjpars, priors])\n",
    "\n",
    "    pos, prob, state = sampler.run_mcmc(p0, niter)\n",
    "    \n",
    "    print(p0)\n",
    "    \n",
    "    for i in range(ndim):\n",
    "        plt.figure()\n",
    "        y = sampler.flatchain[:,i]\n",
    "        n, bins, patches = plt.hist(y, 200, density=1, color=\"b\", alpha=0.45)\n",
    "        plt.title(\"Dimension {0:d}\".format(i))\n",
    "        \n",
    "        mu = np.average(y)\n",
    "        sigma = np.std(y)       \n",
    "        print (\"mu,\", \"sigma = \", mu, sigma)\n",
    "\n",
    "        bf = norm.pdf(bins, mu, sigma)\n",
    "        l = plt.plot(bins, bf, 'k--', linewidth=2.0)\n",
    "\n",
    "    #plt.show()\n",
    "    \n",
    "    return pos\n",
    "\n",
    "#     pool.close()\n",
    "\n"
   ]
  },
  {
   "cell_type": "code",
   "execution_count": 2,
   "metadata": {
    "scrolled": true
   },
   "outputs": [
    {
     "ename": "NameError",
     "evalue": "name 'run' is not defined",
     "output_type": "error",
     "traceback": [
      "\u001b[0;31m---------------------------------------------------------------------------\u001b[0m",
      "\u001b[0;31mNameError\u001b[0m                                 Traceback (most recent call last)",
      "\u001b[0;32m<ipython-input-2-bbfd37277262>\u001b[0m in \u001b[0;36m<module>\u001b[0;34m\u001b[0m\n\u001b[1;32m      8\u001b[0m \u001b[0;34m\u001b[0m\u001b[0m\n\u001b[1;32m      9\u001b[0m \u001b[0mtime1\u001b[0m \u001b[0;34m=\u001b[0m \u001b[0mtime\u001b[0m\u001b[0;34m.\u001b[0m\u001b[0mtime\u001b[0m\u001b[0;34m(\u001b[0m\u001b[0;34m)\u001b[0m\u001b[0;34m\u001b[0m\u001b[0;34m\u001b[0m\u001b[0m\n\u001b[0;32m---> 10\u001b[0;31m \u001b[0mpostion\u001b[0m \u001b[0;34m=\u001b[0m \u001b[0mrun\u001b[0m\u001b[0;34m(\u001b[0m\u001b[0madjpars\u001b[0m\u001b[0;34m,\u001b[0m \u001b[0mpriors\u001b[0m\u001b[0;34m,\u001b[0m \u001b[0mnwalkers\u001b[0m\u001b[0;34m,\u001b[0m \u001b[0mniters\u001b[0m\u001b[0;34m)\u001b[0m\u001b[0;34m\u001b[0m\u001b[0;34m\u001b[0m\u001b[0m\n\u001b[0m\u001b[1;32m     11\u001b[0m \u001b[0mtime2\u001b[0m \u001b[0;34m=\u001b[0m \u001b[0mtime\u001b[0m\u001b[0;34m.\u001b[0m\u001b[0mtime\u001b[0m\u001b[0;34m(\u001b[0m\u001b[0;34m)\u001b[0m\u001b[0;34m\u001b[0m\u001b[0;34m\u001b[0m\u001b[0m\n",
      "\u001b[0;31mNameError\u001b[0m: name 'run' is not defined"
     ]
    }
   ],
   "source": [
    "adjpars = ['requiv@primary', 'incl@orbit', 'q@binary', 'teff@primary', 'teff@secondary']\n",
    "priors = [(0.45,0.55), (75.0, 80.0), (0.3, 0.5), (5400, 5800), (5400., 5800.)]\n",
    "nwalkers = 20\n",
    "niters = 2000\n",
    "state = None\n",
    "\n",
    "import time\n",
    "\n",
    "time1 = time.time()\n",
    "postion = run(adjpars, priors, nwalkers, niters)\n",
    "time2 = time.time()"
   ]
  },
  {
   "cell_type": "code",
   "execution_count": null,
   "metadata": {
    "scrolled": false
   },
   "outputs": [],
   "source": [
    "from matplotlib.pyplot import cm \n",
    "\n",
    "mod = b\n",
    "position = postion\n",
    "times = lc[:,0]\n",
    "color=cm.rainbow(np.linspace(0,1,nwalkers))\n",
    "\n",
    "for i,c in zip(range(nwalkers),color):\n",
    "    \n",
    "    mod['requiv@primary'] = position[-1-i,0]\n",
    "    mod['incl@binary@orbit@component'] = position[-1-i,1]\n",
    "    mod['q@binary'] = position[-1-i,2]\n",
    "    mod['teff@primary'] = position[-1-i,3]\n",
    "    mod['teff@secondary'] = position[-1-i,4]\n",
    "    try:\n",
    "        mod.run_compute(model='run{}'.format(i))\n",
    "    except:\n",
    "        print('it is error')\n",
    "\n",
    "\n",
    "for i,c in zip(range(nwalkers),color):\n",
    "    try:\n",
    "        model = mod['fluxes@run{}'.format(i)].interp_value(times=times)\n",
    "\n",
    "    #plt.figure(1)\n",
    "        plt.plot(times,model,c=c)\n",
    "    except:\n",
    "        print('it is error')\n",
    "    \n",
    "plt.plot(times,lc[:,1],\"k.\")\n",
    "plt.xlabel(\"phases\")\n",
    "plt.ylabel(\"Flux\")\n"
   ]
  },
  {
   "cell_type": "code",
   "execution_count": null,
   "metadata": {
    "scrolled": false
   },
   "outputs": [],
   "source": [
    "mod['incl@binary@orbit@component']"
   ]
  },
  {
   "cell_type": "code",
   "execution_count": null,
   "metadata": {
    "scrolled": false
   },
   "outputs": [],
   "source": [
    "mod['q@binary']"
   ]
  },
  {
   "cell_type": "code",
   "execution_count": null,
   "metadata": {
    "scrolled": false
   },
   "outputs": [],
   "source": [
    "mod['teff@primary']"
   ]
  },
  {
   "cell_type": "code",
   "execution_count": null,
   "metadata": {
    "scrolled": false
   },
   "outputs": [],
   "source": [
    "mod['teff@secondary']"
   ]
  },
  {
   "cell_type": "code",
   "execution_count": null,
   "metadata": {
    "scrolled": false
   },
   "outputs": [],
   "source": []
  },
  {
   "cell_type": "code",
   "execution_count": null,
   "metadata": {
    "scrolled": true
   },
   "outputs": [],
   "source": []
  }
 ],
 "metadata": {
  "kernelspec": {
   "display_name": "Python 3",
   "language": "python",
   "name": "python3"
  },
  "language_info": {
   "codemirror_mode": {
    "name": "ipython",
    "version": 3
   },
   "file_extension": ".py",
   "mimetype": "text/x-python",
   "name": "python",
   "nbconvert_exporter": "python",
   "pygments_lexer": "ipython3",
   "version": "3.7.6"
  }
 },
 "nbformat": 4,
 "nbformat_minor": 4
}
