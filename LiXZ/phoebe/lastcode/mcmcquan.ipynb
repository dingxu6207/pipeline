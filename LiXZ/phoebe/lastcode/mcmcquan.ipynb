{
 "cells": [
  {
   "cell_type": "code",
   "execution_count": 1,
   "metadata": {},
   "outputs": [],
   "source": [
    "import phoebe\n",
    "import numpy as np\n",
    "import matplotlib.pyplot as plt\n",
    "import emcee\n",
    "import sys\n",
    "%matplotlib inline"
   ]
  },
  {
   "cell_type": "code",
   "execution_count": 2,
   "metadata": {},
   "outputs": [],
   "source": [
    "b = phoebe.default_binary()"
   ]
  },
  {
   "cell_type": "code",
   "execution_count": 3,
   "metadata": {},
   "outputs": [
    {
     "data": {
      "text/plain": [
       "<ParameterSet: 1 parameters>"
      ]
     },
     "execution_count": 3,
     "metadata": {},
     "output_type": "execute_result"
    }
   ],
   "source": [
    "b.add_constraint('semidetached', 'primary')"
   ]
  },
  {
   "cell_type": "code",
   "execution_count": 4,
   "metadata": {},
   "outputs": [
    {
     "data": {
      "text/plain": [
       "<ParameterSet: 1 parameters>"
      ]
     },
     "execution_count": 4,
     "metadata": {},
     "output_type": "execute_result"
    }
   ],
   "source": [
    "b.add_constraint('semidetached', 'secondary')"
   ]
  },
  {
   "cell_type": "code",
   "execution_count": 5,
   "metadata": {},
   "outputs": [],
   "source": [
    "b['period@orbit'] = 1\n",
    "b['sma@orbit'] = 6\n",
    "#b['q@binary'] = 0.44\n",
    "# b['incl@orbit'] = 83.5\n",
    "# b['requiv@primary'] = 1.2\n",
    "# b['requiv@secondary'] = 0.8\n",
    "#b['teff@primary'] = 5660.\n",
    "# b['teff@secondary'] = 5500."
   ]
  },
  {
   "cell_type": "code",
   "execution_count": 6,
   "metadata": {},
   "outputs": [],
   "source": [
    "lc = np.loadtxt('data.lc')"
   ]
  },
  {
   "cell_type": "code",
   "execution_count": 7,
   "metadata": {},
   "outputs": [
    {
     "data": {
      "text/plain": [
       "<ParameterSet: 78 parameters | contexts: figure, compute, constraint, dataset>"
      ]
     },
     "execution_count": 7,
     "metadata": {},
     "output_type": "execute_result"
    }
   ],
   "source": [
    "b.add_dataset('lc', times=lc[:,0], fluxes=lc[:,1], sigmas=0.05*np.ones(len(lc)))"
   ]
  },
  {
   "cell_type": "code",
   "execution_count": 8,
   "metadata": {},
   "outputs": [],
   "source": [
    "phoebe.interactive_checks_off()\n",
    "phoebe.interactive_constraints_off()\n",
    "b.set_value_all('irrad_method', 'none')"
   ]
  },
  {
   "cell_type": "code",
   "execution_count": 9,
   "metadata": {},
   "outputs": [],
   "source": [
    "b.flip_constraint('compute_phases', 'compute_times')\n",
    "b['compute_phases@lc@dataset'] = np.linspace(-0.5,0.5,21)"
   ]
  },
  {
   "cell_type": "code",
   "execution_count": 10,
   "metadata": {},
   "outputs": [],
   "source": [
    "def lnprob(x, adjpars, priors):\n",
    "    #Check to see that all values are within the allowed limits:\n",
    "    if not np.all([priors[i][0] < x[i] < priors[i][1] for i in range(len(priors))]):\n",
    "         return -np.inf\n",
    "\n",
    "    for i in range(len(adjpars)):\n",
    "        b[adjpars[i]] = x[i]\n",
    "    \n",
    "    # Let's assume that our priors are uniform on the range of the physical parameter combinations.\n",
    "    # This is already handled in Phoebe, which will throw an error if the system is not physical,\n",
    "    # therefore it's easy to implement the lnprior as =0 when system checks pass and =-inf if they don't.\n",
    "    # Here we'll 'package' this in a simple try/except statement:\n",
    "    \n",
    "    try:\n",
    "        b.run_compute(irrad_method='none')\n",
    "\n",
    "        # sum of squares of the residuals\n",
    "        fluxes_model = b['fluxes@model'].interp_value(times=lc[:,0])\n",
    "        lnp = -0.5*np.sum((fluxes_model-b['value@fluxes@dataset'])**2 / b['value@sigmas@dataset']**2) \n",
    "\n",
    "    except:\n",
    "        lnp = -np.inf\n",
    "\n",
    "    sys.stderr.write(\"lnp = %e\\n\" % (lnp))\n",
    "\n",
    "    return lnp"
   ]
  },
  {
   "cell_type": "code",
   "execution_count": 11,
   "metadata": {},
   "outputs": [],
   "source": [
    "from scipy.stats import norm\n",
    "def run(adjpars, priors, nwalkers, niter):\n",
    "    ndim = len(adjpars)\n",
    "\n",
    "   \n",
    "\n",
    "    p0 = np.array([[p[0] + (p[1]-p[0])*np.random.rand() for p in priors] for i in range(nwalkers)])\n",
    "\n",
    "#     pool = MPIPool()\n",
    "#     if not pool.is_master():\n",
    "#         pool.wait()\n",
    "#         sys.exit(0)\n",
    "\n",
    "    sampler = emcee.EnsembleSampler(nwalkers, ndim, lnprob, args=[adjpars, priors])\n",
    "\n",
    "    pos, prob, state = sampler.run_mcmc(p0, niter)\n",
    "    \n",
    "    print(p0)\n",
    "    \n",
    "    for i in range(ndim):\n",
    "        plt.figure()\n",
    "        y = sampler.flatchain[:,i]\n",
    "        n, bins, patches = plt.hist(y, 200, density=1, color=\"b\", alpha=0.45)\n",
    "        plt.title(\"Dimension {0:d}\".format(i))\n",
    "        \n",
    "        mu = np.average(y)\n",
    "        sigma = np.std(y)       \n",
    "        print (\"mu,\", \"sigma = \", mu, sigma)\n",
    "\n",
    "        bf = norm.pdf(bins, mu, sigma)\n",
    "        l = plt.plot(bins, bf, 'k--', linewidth=2.0)\n",
    "\n",
    "    #plt.show()\n",
    "    \n",
    "    return pos\n",
    "\n",
    "#     pool.close()\n",
    "\n"
   ]
  },
  {
   "cell_type": "code",
   "execution_count": 12,
   "metadata": {
    "scrolled": true
   },
   "outputs": [
    {
     "name": "stderr",
     "output_type": "stream",
     "text": [
      "100%|██████████| 21/21 [00:00<00:00, 26.99it/s]\n",
      "lnp = -8.975882e+02\n",
      "100%|██████████| 21/21 [00:00<00:00, 28.05it/s]\n",
      "lnp = -2.853522e+01\n",
      "100%|██████████| 21/21 [00:00<00:00, 27.15it/s]\n",
      "lnp = -4.479778e+02\n",
      "100%|██████████| 21/21 [00:00<00:00, 28.84it/s]\n",
      "lnp = -4.265858e+01\n",
      "100%|██████████| 21/21 [00:00<00:00, 27.02it/s]\n",
      "lnp = -1.982020e+03\n",
      "100%|██████████| 21/21 [00:00<00:00, 28.29it/s]\n",
      "lnp = -8.747508e+02\n",
      "100%|██████████| 21/21 [00:00<00:00, 28.55it/s]\n",
      "lnp = -1.102284e+02\n",
      "100%|██████████| 21/21 [00:02<00:00,  9.43it/s]\n",
      "lnp = -1.463529e+03\n",
      "100%|██████████| 21/21 [00:02<00:00,  9.43it/s]\n",
      "lnp = -5.616061e+01\n",
      "100%|██████████| 21/21 [00:00<00:00, 29.29it/s]\n",
      "lnp = -1.792716e+03\n",
      "lnp = -inf\n",
      "100%|██████████| 21/21 [00:00<00:00, 29.33it/s]\n",
      "lnp = -2.562764e+03\n",
      "100%|██████████| 21/21 [00:00<00:00, 30.99it/s]\n",
      "lnp = -6.081377e+03\n",
      "100%|██████████| 21/21 [00:00<00:00, 28.27it/s]\n",
      "lnp = -5.316535e+01\n",
      "100%|██████████| 21/21 [00:00<00:00, 26.69it/s]\n",
      "lnp = -6.202229e+03\n",
      "100%|██████████| 21/21 [00:03<00:00,  6.70it/s]\n",
      "lnp = -3.799729e+03\n",
      "100%|██████████| 21/21 [00:00<00:00, 26.16it/s]\n",
      "lnp = -1.537539e+03\n",
      "100%|██████████| 21/21 [00:00<00:00, 28.80it/s]\n",
      "lnp = -4.114482e+03\n",
      "100%|██████████| 21/21 [00:02<00:00,  9.40it/s]\n",
      "lnp = -9.222701e+02\n",
      "100%|██████████| 21/21 [00:02<00:00,  9.43it/s]\n",
      "lnp = -2.164197e+03\n",
      "100%|██████████| 21/21 [00:00<00:00, 30.85it/s]\n",
      "lnp = -4.581210e+03\n",
      "100%|██████████| 21/21 [00:00<00:00, 28.36it/s]\n",
      "lnp = -3.878007e+02\n",
      "100%|██████████| 21/21 [00:02<00:00,  9.57it/s]\n",
      "lnp = -8.424461e+02\n",
      "100%|██████████| 21/21 [00:02<00:00,  9.59it/s]\n",
      "lnp = -6.135834e+03\n",
      "100%|██████████| 21/21 [00:02<00:00,  9.37it/s]\n",
      "lnp = -5.192834e+02\n",
      "lnp = -inf\n",
      "100%|██████████| 21/21 [00:00<00:00, 26.14it/s]\n",
      "lnp = -6.860024e+03\n",
      "100%|██████████| 21/21 [00:00<00:00, 26.59it/s]\n",
      "lnp = -2.184430e+03\n",
      "100%|██████████| 21/21 [00:00<00:00, 28.21it/s]\n",
      "lnp = -6.089174e+01\n",
      "100%|██████████| 21/21 [00:02<00:00,  9.35it/s]\n",
      "lnp = -2.848224e+02\n",
      "100%|██████████| 21/21 [00:00<00:00, 28.15it/s]\n",
      "lnp = -6.153606e+01\n",
      "100%|██████████| 21/21 [00:02<00:00,  9.31it/s]\n",
      "lnp = -5.783888e+03\n",
      "100%|██████████| 21/21 [00:02<00:00,  9.40it/s]\n",
      "lnp = -8.231447e+02\n",
      "100%|██████████| 21/21 [00:00<00:00, 27.71it/s]\n",
      "lnp = -8.718509e+02\n",
      "100%|██████████| 21/21 [00:00<00:00, 28.32it/s]\n",
      "lnp = -3.519219e+01\n",
      "100%|██████████| 21/21 [00:00<00:00, 28.69it/s]\n",
      "lnp = -2.971470e+03\n",
      "100%|██████████| 21/21 [00:02<00:00,  9.47it/s]\n",
      "lnp = -4.011000e+02\n",
      "100%|██████████| 21/21 [00:00<00:00, 29.79it/s]\n",
      "lnp = -2.337434e+03\n",
      "100%|██████████| 21/21 [00:02<00:00,  9.38it/s]\n",
      "lnp = -7.611662e+02\n",
      "/home/dingxu/anaconda3/lib/python3.7/site-packages/emcee/moves/red_blue.py:99: RuntimeWarning: invalid value encountered in double_scalars\n",
      "  lnpdiff = f + nlp - state.log_prob[j]\n",
      "100%|██████████| 21/21 [00:00<00:00, 29.05it/s]\n",
      "lnp = -8.356364e+01\n",
      "100%|██████████| 21/21 [00:02<00:00,  9.52it/s]\n",
      "lnp = -2.503199e+02\n",
      "100%|██████████| 21/21 [00:02<00:00,  9.67it/s]\n",
      "lnp = -1.941176e+03\n",
      "100%|██████████| 21/21 [00:00<00:00, 28.00it/s]\n",
      "lnp = -1.264281e+02\n",
      "100%|██████████| 21/21 [00:00<00:00, 26.41it/s]\n",
      "lnp = -4.996432e+03\n",
      "100%|██████████| 21/21 [00:00<00:00, 28.47it/s]\n",
      "lnp = -8.897619e+02\n",
      "100%|██████████| 21/21 [00:02<00:00,  9.45it/s]\n",
      "lnp = -4.792150e+03\n",
      "100%|██████████| 21/21 [00:00<00:00, 28.36it/s]\n",
      "lnp = -3.384945e+02\n",
      "100%|██████████| 21/21 [00:00<00:00, 29.04it/s]\n",
      "lnp = -1.481029e+03\n",
      "100%|██████████| 21/21 [00:00<00:00, 28.18it/s]\n",
      "lnp = -3.663398e+01\n",
      "100%|██████████| 21/21 [00:00<00:00, 26.36it/s]\n",
      "lnp = -9.432782e+03\n",
      "100%|██████████| 21/21 [00:02<00:00,  9.39it/s]\n",
      "lnp = -6.089744e+01\n",
      "100%|██████████| 21/21 [00:02<00:00,  9.27it/s]\n",
      "lnp = -1.135314e+03\n",
      "100%|██████████| 21/21 [00:00<00:00, 27.68it/s]\n",
      "lnp = -5.386508e+02\n",
      "100%|██████████| 21/21 [00:00<00:00, 28.00it/s]\n",
      "lnp = -1.180488e+03\n",
      "100%|██████████| 21/21 [00:00<00:00, 28.57it/s]\n",
      "lnp = -2.271278e+01\n",
      "100%|██████████| 21/21 [00:00<00:00, 28.97it/s]\n",
      "lnp = -1.765329e+02\n",
      "100%|██████████| 21/21 [00:03<00:00,  6.66it/s]\n",
      "lnp = -3.771981e+03\n",
      "100%|██████████| 21/21 [00:00<00:00, 26.12it/s]\n",
      "lnp = -6.029045e+03\n",
      "100%|██████████| 21/21 [00:00<00:00, 28.05it/s]\n",
      "lnp = -3.450076e+03\n",
      "100%|██████████| 21/21 [00:00<00:00, 28.97it/s]\n",
      "lnp = -9.754144e+02\n",
      "100%|██████████| 21/21 [00:00<00:00, 27.27it/s]\n",
      "lnp = -4.112415e+01\n",
      "100%|██████████| 21/21 [00:00<00:00, 27.47it/s]\n",
      "lnp = -1.560195e+03\n",
      "100%|██████████| 21/21 [00:00<00:00, 28.47it/s]\n",
      "lnp = -1.485233e+01\n",
      "100%|██████████| 21/21 [00:00<00:00, 27.54it/s]\n",
      "lnp = -8.560552e+01\n",
      "100%|██████████| 21/21 [00:00<00:00, 26.45it/s]\n",
      "lnp = -5.978032e+03\n",
      "100%|██████████| 21/21 [00:02<00:00,  9.30it/s]\n",
      "lnp = -2.129308e+01\n",
      "100%|██████████| 21/21 [00:00<00:00, 27.90it/s]\n",
      "lnp = -4.675852e+01\n",
      "100%|██████████| 21/21 [00:00<00:00, 28.14it/s]\n",
      "lnp = -1.697044e+03\n",
      "100%|██████████| 21/21 [00:00<00:00, 28.94it/s]\n",
      "lnp = -2.487991e+01\n",
      "100%|██████████| 21/21 [00:00<00:00, 29.14it/s]\n",
      "lnp = -1.125412e+03\n",
      "100%|██████████| 21/21 [00:00<00:00, 30.61it/s]\n",
      "lnp = -4.051461e+03\n",
      "100%|██████████| 21/21 [00:02<00:00,  9.59it/s]\n",
      "lnp = -3.259697e+03\n",
      "100%|██████████| 21/21 [00:00<00:00, 28.67it/s]\n",
      "lnp = -1.654739e+03\n",
      "100%|██████████| 21/21 [00:00<00:00, 28.37it/s]\n",
      "lnp = -2.102105e+01\n",
      "100%|██████████| 21/21 [00:00<00:00, 29.47it/s]\n",
      "lnp = -1.314798e+03\n",
      "100%|██████████| 21/21 [00:00<00:00, 26.11it/s]\n",
      "lnp = -1.145708e+03\n",
      "lnp = -inf\n",
      "100%|██████████| 21/21 [00:00<00:00, 27.30it/s]\n",
      "lnp = -2.873792e+02\n",
      "100%|██████████| 21/21 [00:00<00:00, 27.61it/s]\n",
      "lnp = -1.579185e+01\n",
      "100%|██████████| 21/21 [00:02<00:00,  9.42it/s]\n",
      "lnp = -1.992126e+02\n",
      "100%|██████████| 21/21 [00:00<00:00, 28.48it/s]\n",
      "lnp = -7.132161e+01\n",
      "100%|██████████| 21/21 [00:00<00:00, 29.02it/s]\n",
      "lnp = -2.409076e+03\n",
      "100%|██████████| 21/21 [00:00<00:00, 29.15it/s]\n",
      "lnp = -3.720621e+03\n",
      "100%|██████████| 21/21 [00:00<00:00, 27.80it/s]\n",
      "lnp = -9.172544e+02\n",
      "100%|██████████| 21/21 [00:00<00:00, 27.96it/s]\n",
      "lnp = -5.175961e+02\n",
      "100%|██████████| 21/21 [00:02<00:00,  9.40it/s]\n",
      "lnp = -3.612627e+03\n",
      "100%|██████████| 21/21 [00:02<00:00,  9.54it/s]\n",
      "lnp = -1.315535e+03\n",
      "100%|██████████| 21/21 [00:00<00:00, 28.08it/s]\n",
      "lnp = -2.074654e+01\n",
      "100%|██████████| 21/21 [00:02<00:00,  9.41it/s]\n",
      "lnp = -3.921016e+01\n",
      "100%|██████████| 21/21 [00:00<00:00, 27.66it/s]\n",
      "lnp = -1.435923e+02\n",
      "100%|██████████| 21/21 [00:00<00:00, 27.75it/s]\n",
      "lnp = -4.738599e+02\n",
      "100%|██████████| 21/21 [00:00<00:00, 28.50it/s]\n",
      "lnp = -8.331637e+01\n",
      "100%|██████████| 21/21 [00:00<00:00, 29.19it/s]\n",
      "lnp = -1.733851e+03\n",
      "100%|██████████| 21/21 [00:00<00:00, 27.58it/s]\n",
      "lnp = -3.265625e+03\n",
      "100%|██████████| 21/21 [00:00<00:00, 28.21it/s]\n",
      "lnp = -5.331633e+01\n",
      "100%|██████████| 21/21 [00:02<00:00,  9.49it/s]\n",
      "lnp = -1.564015e+03\n",
      "100%|██████████| 21/21 [00:00<00:00, 28.17it/s]\n",
      "lnp = -5.334546e+01\n",
      "100%|██████████| 21/21 [00:02<00:00,  9.44it/s]\n",
      "lnp = -8.947910e+02\n",
      "100%|██████████| 21/21 [00:02<00:00,  9.42it/s]\n",
      "lnp = -4.365879e+01\n",
      "100%|██████████| 21/21 [00:00<00:00, 28.23it/s]\n",
      "lnp = -1.262266e+03\n",
      "100%|██████████| 21/21 [00:00<00:00, 28.01it/s]\n",
      "lnp = -1.972189e+03\n",
      "100%|██████████| 21/21 [00:00<00:00, 28.04it/s]\n",
      "lnp = -3.560399e+02\n",
      "100%|██████████| 21/21 [00:02<00:00,  9.56it/s]\n",
      "lnp = -4.209646e+01\n",
      "100%|██████████| 21/21 [00:00<00:00, 28.40it/s]\n",
      "lnp = -1.511200e+01\n",
      "100%|██████████| 21/21 [00:00<00:00, 27.58it/s]\n",
      "lnp = -3.663599e+02\n",
      "100%|██████████| 21/21 [00:00<00:00, 31.62it/s]\n",
      "lnp = -6.110195e+03\n",
      "100%|██████████| 21/21 [00:02<00:00,  9.50it/s]\n",
      "lnp = -3.996316e+02\n",
      "100%|██████████| 21/21 [00:02<00:00,  9.45it/s]\n",
      "lnp = -1.427469e+01\n",
      "100%|██████████| 21/21 [00:00<00:00, 27.81it/s]\n",
      "lnp = -3.246915e+02\n",
      "100%|██████████| 21/21 [00:00<00:00, 27.75it/s]\n",
      "lnp = -4.146522e+01\n",
      "100%|██████████| 21/21 [00:02<00:00,  9.43it/s]\n",
      "lnp = -2.699740e+03\n",
      "100%|██████████| 21/21 [00:02<00:00,  9.49it/s]\n",
      "lnp = -1.721214e+01\n",
      "100%|██████████| 21/21 [00:02<00:00,  9.48it/s]\n",
      "lnp = -8.613206e+01\n",
      "100%|██████████| 21/21 [00:00<00:00, 28.41it/s]\n",
      "lnp = -2.795270e+01\n",
      "100%|██████████| 21/21 [00:00<00:00, 29.29it/s]\n",
      "lnp = -9.840195e+02\n",
      "100%|██████████| 21/21 [00:00<00:00, 29.04it/s]\n",
      "lnp = -6.194392e+02\n",
      "100%|██████████| 21/21 [00:00<00:00, 26.49it/s]\n",
      "lnp = -4.381220e+03\n",
      "100%|██████████| 21/21 [00:00<00:00, 28.48it/s]\n",
      "lnp = -5.097929e+02\n",
      "100%|██████████| 21/21 [00:00<00:00, 29.09it/s]\n",
      "lnp = -1.671907e+03\n",
      "100%|██████████| 21/21 [00:00<00:00, 27.48it/s]\n",
      "lnp = -4.084241e+01\n"
     ]
    },
    {
     "name": "stderr",
     "output_type": "stream",
     "text": [
      "100%|██████████| 21/21 [00:00<00:00, 28.45it/s]\n",
      "lnp = -1.217552e+02\n",
      "100%|██████████| 21/21 [00:02<00:00,  9.39it/s]\n",
      "lnp = -7.741231e+01\n",
      "100%|██████████| 21/21 [00:00<00:00, 27.27it/s]\n",
      "lnp = -2.071757e+01\n",
      "100%|██████████| 21/21 [00:02<00:00,  9.36it/s]\n",
      "lnp = -2.963625e+01\n",
      "100%|██████████| 21/21 [00:00<00:00, 27.11it/s]\n",
      "lnp = -3.466527e+01\n",
      "100%|██████████| 21/21 [00:00<00:00, 28.85it/s]\n",
      "lnp = -2.082230e+03\n",
      "100%|██████████| 21/21 [00:00<00:00, 28.10it/s]\n",
      "lnp = -1.644905e+03\n",
      "100%|██████████| 21/21 [00:00<00:00, 27.53it/s]\n",
      "lnp = -5.301570e+02\n",
      "100%|██████████| 21/21 [00:02<00:00,  9.35it/s]\n",
      "lnp = -7.506914e+02\n",
      "100%|██████████| 21/21 [00:00<00:00, 28.04it/s]\n",
      "lnp = -1.750636e+03\n",
      "100%|██████████| 21/21 [00:00<00:00, 26.91it/s]\n",
      "lnp = -4.570577e+03\n",
      "100%|██████████| 21/21 [00:02<00:00,  9.48it/s]\n",
      "lnp = -3.998810e+02\n",
      "100%|██████████| 21/21 [00:02<00:00,  9.46it/s]\n",
      "lnp = -3.503174e+01\n",
      "100%|██████████| 21/21 [00:02<00:00,  9.29it/s]\n",
      "lnp = -7.711338e+02\n",
      "100%|██████████| 21/21 [00:03<00:00,  6.67it/s]\n",
      "lnp = -6.164527e+03\n",
      "100%|██████████| 21/21 [00:02<00:00,  9.65it/s]\n",
      "lnp = -1.735069e+03\n",
      "100%|██████████| 21/21 [00:02<00:00,  9.36it/s]\n",
      "lnp = -4.618405e+01\n",
      "100%|██████████| 21/21 [00:00<00:00, 27.39it/s]\n",
      "lnp = -7.768624e+02\n",
      "100%|██████████| 21/21 [00:00<00:00, 28.50it/s]\n",
      "lnp = -1.447745e+02\n",
      "100%|██████████| 21/21 [00:00<00:00, 27.61it/s]\n",
      "lnp = -2.109734e+02\n",
      "100%|██████████| 21/21 [00:02<00:00,  9.36it/s]\n",
      "lnp = -4.257118e+01\n",
      "100%|██████████| 21/21 [00:00<00:00, 28.72it/s]\n",
      "lnp = -3.862465e+02\n",
      "100%|██████████| 21/21 [00:02<00:00,  9.39it/s]\n",
      "lnp = -2.634823e+02\n",
      "100%|██████████| 21/21 [00:00<00:00, 27.58it/s]\n",
      "lnp = -4.939589e+02\n",
      "100%|██████████| 21/21 [00:02<00:00,  9.37it/s]\n",
      "lnp = -3.286579e+01\n",
      "100%|██████████| 21/21 [00:00<00:00, 28.36it/s]\n",
      "lnp = -1.748625e+01\n",
      "100%|██████████| 21/21 [00:00<00:00, 28.78it/s]\n",
      "lnp = -1.229479e+03\n",
      "100%|██████████| 21/21 [00:00<00:00, 27.81it/s]\n",
      "lnp = -1.744880e+01\n",
      "100%|██████████| 21/21 [00:02<00:00,  9.43it/s]\n",
      "lnp = -1.941879e+02\n",
      "100%|██████████| 21/21 [00:00<00:00, 28.14it/s]\n",
      "lnp = -1.709613e+03\n"
     ]
    },
    {
     "name": "stdout",
     "output_type": "stream",
     "text": [
      "[[7.57482468e+01 7.77926646e-01 5.71988446e+03 5.47473228e+03]\n",
      " [8.23170603e+01 4.30074887e-01 5.43929722e+03 5.55202669e+03]\n",
      " [7.63071072e+01 4.98519392e-01 5.63306283e+03 5.76937151e+03]\n",
      " [7.92740105e+01 3.28227753e-01 5.48271531e+03 5.72573368e+03]\n",
      " [8.12840342e+01 8.32503073e-01 5.53180157e+03 5.43193073e+03]\n",
      " [7.94113664e+01 6.98516662e-01 5.78584014e+03 5.68750079e+03]\n",
      " [7.87124459e+01 3.67267467e-01 5.46195039e+03 5.48900409e+03]\n",
      " [8.22903993e+01 2.68920481e-01 5.76443158e+03 5.45883162e+03]\n",
      " [8.29927993e+01 5.04051003e-01 5.47034404e+03 5.45266819e+03]\n",
      " [8.29622102e+01 1.77599683e-01 5.58069068e+03 5.59627751e+03]\n",
      " [8.37177311e+01 8.53285620e-01 5.43972260e+03 5.51426972e+03]\n",
      " [7.99350121e+01 1.15544243e-01 5.50930700e+03 5.60788060e+03]\n",
      " [8.14230659e+01 1.64426062e-02 5.60984505e+03 5.51690246e+03]\n",
      " [8.04239987e+01 5.88032340e-01 5.75157792e+03 5.41869986e+03]\n",
      " [7.66802757e+01 8.87169785e-01 5.63885623e+03 5.72621641e+03]\n",
      " [8.29977825e+01 8.20143213e-01 5.50814901e+03 5.58672326e+03]\n",
      " [8.33760995e+01 9.36305899e-01 5.79271002e+03 5.51115127e+03]\n",
      " [8.30879815e+01 7.68174264e-01 5.57154742e+03 5.74531414e+03]\n",
      " [7.58598498e+01 6.31890518e-01 5.51516151e+03 5.50080100e+03]\n",
      " [8.29914516e+01 7.93391273e-01 5.69709275e+03 5.67278773e+03]\n",
      " [8.25295938e+01 4.73449978e-02 5.49638098e+03 5.47985923e+03]\n",
      " [7.79884407e+01 3.20380856e-01 5.72999597e+03 5.69729364e+03]\n",
      " [8.05969283e+01 2.02206086e-01 5.40989535e+03 5.68281002e+03]\n",
      " [7.92477219e+01 1.39675417e-02 5.59314405e+03 5.53228328e+03]\n",
      " [7.67990181e+01 5.81370604e-01 5.62063433e+03 5.61470631e+03]\n",
      " [7.62542298e+01 8.52167721e-01 5.68643496e+03 5.54258114e+03]\n",
      " [7.91206910e+01 9.23834495e-01 5.46426037e+03 5.55648611e+03]\n",
      " [7.58692533e+01 8.12462299e-01 5.71174759e+03 5.60165580e+03]\n",
      " [8.24147732e+01 3.89814525e-01 5.61170759e+03 5.66320850e+03]\n",
      " [7.67652966e+01 4.99374018e-01 5.54202183e+03 5.62065166e+03]\n",
      " [8.11058101e+01 3.81851216e-01 5.41693967e+03 5.69142745e+03]\n",
      " [7.68473945e+01 7.82606326e-01 5.55422625e+03 5.75725376e+03]]\n",
      "mu, sigma =  79.9222075205315 2.308331490221738\n",
      "mu, sigma =  0.5034311212178016 0.2157704764544153\n",
      "mu, sigma =  5573.087710038328 101.36591393909657\n",
      "mu, sigma =  5592.937079065751 89.37003453994178\n"
     ]
    },
    {
     "data": {
      "image/png": "[encoded data removed]",
      "text/plain": [
       "<Figure size 432x288 with 1 Axes>"
      ]
     },
     "metadata": {
      "needs_background": "light"
     },
     "output_type": "display_data"
    },
    {
     "data": {
      "image/png": "[encoded data removed]",
      "text/plain": [
       "<Figure size 432x288 with 1 Axes>"
      ]
     },
     "metadata": {
      "needs_background": "light"
     },
     "output_type": "display_data"
    },
    {
     "data": {
      "image/png": "[encoded data removed]",
      "text/plain": [
       "<Figure size 432x288 with 1 Axes>"
      ]
     },
     "metadata": {
      "needs_background": "light"
     },
     "output_type": "display_data"
    },
    {
     "data": {
      "image/png": "[encoded data removed]",
      "text/plain": [
       "<Figure size 432x288 with 1 Axes>"
      ]
     },
     "metadata": {
      "needs_background": "light"
     },
     "output_type": "display_data"
    }
   ],
   "source": [
    "adjpars = ['incl@orbit', 'q@binary', 'teff@primary', 'teff@secondary']\n",
    "priors = [(75.0, 84.0), (0, 1), (5400, 5800), (5400., 5800.)]\n",
    "nwalkers = 32\n",
    "niters = 5\n",
    "state = None\n",
    "\n",
    "import time\n",
    "\n",
    "time1 = time.time()\n",
    "postion = run(adjpars, priors, nwalkers, niters)\n",
    "time2 = time.time()"
   ]
  },
  {
   "cell_type": "code",
   "execution_count": null,
   "metadata": {},
   "outputs": [
    {
     "name": "stderr",
     "output_type": "stream",
     "text": [
      "100%|██████████| 21/21 [00:00<00:00, 29.90it/s]\n",
      "100%|██████████| 21/21 [00:02<00:00,  9.59it/s]\n",
      "100%|██████████| 21/21 [00:00<00:00, 28.45it/s]\n",
      "100%|██████████| 21/21 [00:00<00:00, 29.69it/s]\n",
      " 10%|▉         | 2/21 [00:00<00:01, 17.10it/s]"
     ]
    }
   ],
   "source": [
    "from matplotlib.pyplot import cm \n",
    "\n",
    "mod = b\n",
    "position = postion\n",
    "times = lc[:,0]\n",
    "color=cm.rainbow(np.linspace(0,1,nwalkers))\n",
    "\n",
    "for i,c in zip(range(nwalkers),color):\n",
    "    \n",
    "    mod['incl@binary@orbit@component'] = position[-1-i,0]\n",
    "    mod['q@binary'] = position[-1-i,1]\n",
    "    mod['teff@primary'] = position[-1-i,2]\n",
    "    mod['teff@secondary'] = position[-1-i,3]\n",
    "    mod.run_compute(model='run{}'.format(i))\n",
    "\n",
    "\n",
    "for i,c in zip(range(nwalkers),color):\n",
    "    model = mod['fluxes@run{}'.format(i)].interp_value(times=times)\n",
    "\n",
    "    #plt.figure(1)\n",
    "    plt.plot(times,model,c=c)\n",
    "plt.plot(times,lc[:,1],\"k.\")\n",
    "plt.xlabel(\"Times\")\n",
    "plt.ylabel(\"Flux\")\n"
   ]
  },
  {
   "cell_type": "code",
   "execution_count": null,
   "metadata": {},
   "outputs": [],
   "source": []
  }
 ],
 "metadata": {
  "kernelspec": {
   "display_name": "Python 3",
   "language": "python",
   "name": "python3"
  },
  "language_info": {
   "codemirror_mode": {
    "name": "ipython",
    "version": 3
   },
   "file_extension": ".py",
   "mimetype": "text/x-python",
   "name": "python",
   "nbconvert_exporter": "python",
   "pygments_lexer": "ipython3",
   "version": "3.7.6"
  }
 },
 "nbformat": 4,
 "nbformat_minor": 4
}
